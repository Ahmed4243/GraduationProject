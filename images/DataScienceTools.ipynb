{
 "cells": [
  {
   "cell_type": "code",
   "execution_count": 160,
   "id": "30049093-53c2-44e1-b06f-007a12399305",
   "metadata": {},
   "outputs": [],
   "source": [
    "import requests\n",
    "import pandas as pd\n",
    "import matplotlib.pyplot as plt"
   ]
  },
  {
   "cell_type": "code",
   "execution_count": 161,
   "id": "d3b86c6d-3130-4faf-92c0-682b4caf2a72",
   "metadata": {},
   "outputs": [
    {
     "data": {
      "text/html": [
       "<div>\n",
       "<style scoped>\n",
       "    .dataframe tbody tr th:only-of-type {\n",
       "        vertical-align: middle;\n",
       "    }\n",
       "\n",
       "    .dataframe tbody tr th {\n",
       "        vertical-align: top;\n",
       "    }\n",
       "\n",
       "    .dataframe thead th {\n",
       "        text-align: right;\n",
       "    }\n",
       "</style>\n",
       "<table border=\"1\" class=\"dataframe\">\n",
       "  <thead>\n",
       "    <tr style=\"text-align: right;\">\n",
       "      <th></th>\n",
       "      <th>City</th>\n",
       "      <th>Country</th>\n",
       "      <th>Temperature (°C)</th>\n",
       "      <th>Humidity (%)</th>\n",
       "      <th>Weather</th>\n",
       "    </tr>\n",
       "  </thead>\n",
       "  <tbody>\n",
       "    <tr>\n",
       "      <th>0</th>\n",
       "      <td>Alexandria</td>\n",
       "      <td>eg</td>\n",
       "      <td>17.08</td>\n",
       "      <td>70</td>\n",
       "      <td>scattered clouds</td>\n",
       "    </tr>\n",
       "    <tr>\n",
       "      <th>1</th>\n",
       "      <td>Cairo</td>\n",
       "      <td>eg</td>\n",
       "      <td>16.42</td>\n",
       "      <td>67</td>\n",
       "      <td>haze</td>\n",
       "    </tr>\n",
       "    <tr>\n",
       "      <th>2</th>\n",
       "      <td>London</td>\n",
       "      <td>uk</td>\n",
       "      <td>9.38</td>\n",
       "      <td>90</td>\n",
       "      <td>light rain</td>\n",
       "    </tr>\n",
       "    <tr>\n",
       "      <th>3</th>\n",
       "      <td>Paris</td>\n",
       "      <td>fr</td>\n",
       "      <td>5.21</td>\n",
       "      <td>94</td>\n",
       "      <td>light rain</td>\n",
       "    </tr>\n",
       "    <tr>\n",
       "      <th>4</th>\n",
       "      <td>Tokyo</td>\n",
       "      <td>jp</td>\n",
       "      <td>10.84</td>\n",
       "      <td>51</td>\n",
       "      <td>broken clouds</td>\n",
       "    </tr>\n",
       "    <tr>\n",
       "      <th>5</th>\n",
       "      <td>New York</td>\n",
       "      <td>us</td>\n",
       "      <td>4.65</td>\n",
       "      <td>50</td>\n",
       "      <td>overcast clouds</td>\n",
       "    </tr>\n",
       "    <tr>\n",
       "      <th>6</th>\n",
       "      <td>Berlin</td>\n",
       "      <td>de</td>\n",
       "      <td>4.83</td>\n",
       "      <td>90</td>\n",
       "      <td>light intensity drizzle rain</td>\n",
       "    </tr>\n",
       "    <tr>\n",
       "      <th>7</th>\n",
       "      <td>Sydney</td>\n",
       "      <td>au</td>\n",
       "      <td>22.38</td>\n",
       "      <td>78</td>\n",
       "      <td>broken clouds</td>\n",
       "    </tr>\n",
       "  </tbody>\n",
       "</table>\n",
       "</div>"
      ],
      "text/plain": [
       "         City Country  Temperature (°C)  Humidity (%)  \\\n",
       "0  Alexandria      eg             17.08            70   \n",
       "1       Cairo      eg             16.42            67   \n",
       "2      London      uk              9.38            90   \n",
       "3       Paris      fr              5.21            94   \n",
       "4       Tokyo      jp             10.84            51   \n",
       "5    New York      us              4.65            50   \n",
       "6      Berlin      de              4.83            90   \n",
       "7      Sydney      au             22.38            78   \n",
       "\n",
       "                        Weather  \n",
       "0              scattered clouds  \n",
       "1                          haze  \n",
       "2                    light rain  \n",
       "3                    light rain  \n",
       "4                 broken clouds  \n",
       "5               overcast clouds  \n",
       "6  light intensity drizzle rain  \n",
       "7                 broken clouds  "
      ]
     },
     "execution_count": 161,
     "metadata": {},
     "output_type": "execute_result"
    }
   ],
   "source": [
    "API_KEY = \"1e97dffc1de266459e2b00755b052c85\"\n",
    "URL = \"http://api.openweathermap.org/data/2.5/weather\"\n",
    "\n",
    "cities = [\"Alexandria,eg\", \"Cairo,eg\", \"London,uk\", \"Paris,fr\", \"Tokyo,jp\", \"New York,us\", \"Berlin,de\", \"Sydney,au\"]\n",
    "\n",
    "weather_data = []\n",
    "\n",
    "for city in cities:\n",
    "    response = requests.get(URL, params={\"q\": city, \"appid\": API_KEY, \"units\": \"metric\"})\n",
    "    \n",
    "    if response.status_code == 200:\n",
    "        weather = response.json()\n",
    "        weather_data.append({\n",
    "            \"City\": city.split(\",\")[0],\n",
    "            \"Country\": city.split(\",\")[1],\n",
    "            \"Temperature (°C)\": weather[\"main\"][\"temp\"],\n",
    "            \"Humidity (%)\": weather[\"main\"][\"humidity\"],\n",
    "            \"Weather\": weather[\"weather\"][0][\"description\"],\n",
    "        })\n",
    "    else:\n",
    "        print(f\"Failed to fetch data for {city}. Error: {response.status_code}\")\n",
    "\n",
    "df = pd.DataFrame(weather_data)\n",
    "\n",
    "df"
   ]
  },
  {
   "cell_type": "code",
   "execution_count": 162,
   "id": "e46f4850-70c3-4ab1-a28f-f26ce8b61356",
   "metadata": {},
   "outputs": [
    {
     "data": {
      "text/html": [
       "<div>\n",
       "<style scoped>\n",
       "    .dataframe tbody tr th:only-of-type {\n",
       "        vertical-align: middle;\n",
       "    }\n",
       "\n",
       "    .dataframe tbody tr th {\n",
       "        vertical-align: top;\n",
       "    }\n",
       "\n",
       "    .dataframe thead th {\n",
       "        text-align: right;\n",
       "    }\n",
       "</style>\n",
       "<table border=\"1\" class=\"dataframe\">\n",
       "  <thead>\n",
       "    <tr style=\"text-align: right;\">\n",
       "      <th></th>\n",
       "      <th>Temperature (°C)</th>\n",
       "      <th>Humidity (%)</th>\n",
       "    </tr>\n",
       "  </thead>\n",
       "  <tbody>\n",
       "    <tr>\n",
       "      <th>count</th>\n",
       "      <td>8.000000</td>\n",
       "      <td>8.000000</td>\n",
       "    </tr>\n",
       "    <tr>\n",
       "      <th>mean</th>\n",
       "      <td>11.348750</td>\n",
       "      <td>73.750000</td>\n",
       "    </tr>\n",
       "    <tr>\n",
       "      <th>std</th>\n",
       "      <td>6.648734</td>\n",
       "      <td>17.310195</td>\n",
       "    </tr>\n",
       "    <tr>\n",
       "      <th>min</th>\n",
       "      <td>4.650000</td>\n",
       "      <td>50.000000</td>\n",
       "    </tr>\n",
       "    <tr>\n",
       "      <th>25%</th>\n",
       "      <td>5.115000</td>\n",
       "      <td>63.000000</td>\n",
       "    </tr>\n",
       "    <tr>\n",
       "      <th>50%</th>\n",
       "      <td>10.110000</td>\n",
       "      <td>74.000000</td>\n",
       "    </tr>\n",
       "    <tr>\n",
       "      <th>75%</th>\n",
       "      <td>16.585000</td>\n",
       "      <td>90.000000</td>\n",
       "    </tr>\n",
       "    <tr>\n",
       "      <th>max</th>\n",
       "      <td>22.380000</td>\n",
       "      <td>94.000000</td>\n",
       "    </tr>\n",
       "  </tbody>\n",
       "</table>\n",
       "</div>"
      ],
      "text/plain": [
       "       Temperature (°C)  Humidity (%)\n",
       "count          8.000000      8.000000\n",
       "mean          11.348750     73.750000\n",
       "std            6.648734     17.310195\n",
       "min            4.650000     50.000000\n",
       "25%            5.115000     63.000000\n",
       "50%           10.110000     74.000000\n",
       "75%           16.585000     90.000000\n",
       "max           22.380000     94.000000"
      ]
     },
     "execution_count": 162,
     "metadata": {},
     "output_type": "execute_result"
    }
   ],
   "source": [
    "df.describe()"
   ]
  },
  {
   "cell_type": "code",
   "execution_count": 163,
   "id": "18d13f49-5d65-4e05-adb1-62ec5f7109ee",
   "metadata": {},
   "outputs": [
    {
     "data": {
      "text/plain": [
       "<Figure size 1000x500 with 0 Axes>"
      ]
     },
     "execution_count": 163,
     "metadata": {},
     "output_type": "execute_result"
    },
    {
     "data": {
      "text/plain": [
       "<BarContainer object of 8 artists>"
      ]
     },
     "execution_count": 163,
     "metadata": {},
     "output_type": "execute_result"
    },
    {
     "data": {
      "text/plain": [
       "Text(0.5, 1.0, 'Temperature Across Cities')"
      ]
     },
     "execution_count": 163,
     "metadata": {},
     "output_type": "execute_result"
    },
    {
     "data": {
      "text/plain": [
       "Text(0.5, 0, 'City')"
      ]
     },
     "execution_count": 163,
     "metadata": {},
     "output_type": "execute_result"
    },
    {
     "data": {
      "text/plain": [
       "Text(0, 0.5, 'Temperature (°C)')"
      ]
     },
     "execution_count": 163,
     "metadata": {},
     "output_type": "execute_result"
    },
    {
     "data": {
      "text/plain": [
       "([0, 1, 2, 3, 4, 5, 6, 7],\n",
       " [Text(0, 0, 'Alexandria'),\n",
       "  Text(1, 0, 'Cairo'),\n",
       "  Text(2, 0, 'London'),\n",
       "  Text(3, 0, 'Paris'),\n",
       "  Text(4, 0, 'Tokyo'),\n",
       "  Text(5, 0, 'New York'),\n",
       "  Text(6, 0, 'Berlin'),\n",
       "  Text(7, 0, 'Sydney')])"
      ]
     },
     "execution_count": 163,
     "metadata": {},
     "output_type": "execute_result"
    },
    {
     "data": {
      "image/png": "[encoded data removed]",
      "text/plain": [
       "<Figure size 1000x500 with 1 Axes>"
      ]
     },
     "metadata": {},
     "output_type": "display_data"
    }
   ],
   "source": [
    "plt.figure(figsize=(10, 5))\n",
    "plt.bar(df['City'], df['Temperature (°C)'], color='skyblue')\n",
    "plt.title('Temperature Across Cities')\n",
    "plt.xlabel('City')\n",
    "plt.ylabel('Temperature (°C)')\n",
    "plt.xticks(rotation=45)\n",
    "plt.show()"
   ]
  },
  {
   "cell_type": "code",
   "execution_count": 164,
   "id": "bd6c0e48-5f4c-4220-a09a-53e99d7486b4",
   "metadata": {},
   "outputs": [
    {
     "data": {
      "text/plain": [
       "<Figure size 1000x500 with 0 Axes>"
      ]
     },
     "execution_count": 164,
     "metadata": {},
     "output_type": "execute_result"
    },
    {
     "data": {
      "text/plain": [
       "<BarContainer object of 8 artists>"
      ]
     },
     "execution_count": 164,
     "metadata": {},
     "output_type": "execute_result"
    },
    {
     "data": {
      "text/plain": [
       "Text(0.5, 1.0, 'Humidity Across Cities')"
      ]
     },
     "execution_count": 164,
     "metadata": {},
     "output_type": "execute_result"
    },
    {
     "data": {
      "text/plain": [
       "Text(0.5, 0, 'City')"
      ]
     },
     "execution_count": 164,
     "metadata": {},
     "output_type": "execute_result"
    },
    {
     "data": {
      "text/plain": [
       "Text(0, 0.5, 'Humidity (%)')"
      ]
     },
     "execution_count": 164,
     "metadata": {},
     "output_type": "execute_result"
    },
    {
     "data": {
      "text/plain": [
       "([0, 1, 2, 3, 4, 5, 6, 7],\n",
       " [Text(0, 0, 'Alexandria'),\n",
       "  Text(1, 0, 'Cairo'),\n",
       "  Text(2, 0, 'London'),\n",
       "  Text(3, 0, 'Paris'),\n",
       "  Text(4, 0, 'Tokyo'),\n",
       "  Text(5, 0, 'New York'),\n",
       "  Text(6, 0, 'Berlin'),\n",
       "  Text(7, 0, 'Sydney')])"
      ]
     },
     "execution_count": 164,
     "metadata": {},
     "output_type": "execute_result"
    },
    {
     "data": {
      "image/png": "[encoded data removed]",
      "text/plain": [
       "<Figure size 1000x500 with 1 Axes>"
      ]
     },
     "metadata": {},
     "output_type": "display_data"
    }
   ],
   "source": [
    "plt.figure(figsize=(10, 5))\n",
    "plt.bar(df['City'], df['Humidity (%)'], color='lightgreen')\n",
    "plt.title('Humidity Across Cities')\n",
    "plt.xlabel('City')\n",
    "plt.ylabel('Humidity (%)')\n",
    "plt.xticks(rotation=45)\n",
    "plt.show()"
   ]
  }
 ],
 "metadata": {
  "kernelspec": {
   "display_name": "Python 3 (ipykernel)",
   "language": "python",
   "name": "python3"
  },
  "language_info": {
   "codemirror_mode": {
    "name": "ipython",
    "version": 3
   },
   "file_extension": ".py",
   "mimetype": "text/x-python",
   "name": "python",
   "nbconvert_exporter": "python",
   "pygments_lexer": "ipython3",
   "version": "3.12.4"
  }
 },
 "nbformat": 4,
 "nbformat_minor": 5
}
